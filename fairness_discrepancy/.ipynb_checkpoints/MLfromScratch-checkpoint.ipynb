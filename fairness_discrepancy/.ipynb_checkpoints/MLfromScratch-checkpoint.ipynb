{
 "cells": [
  {
   "cell_type": "code",
   "execution_count": 2,
   "id": "domestic-measure",
   "metadata": {},
   "outputs": [],
   "source": [
    "from SVMFromScratch import *\n",
    "import utils as ut\n",
    "from prep_adult_data import *"
   ]
  },
  {
   "cell_type": "code",
   "execution_count": null,
   "id": "stainless-milton",
   "metadata": {},
   "outputs": [],
   "source": [
    "X, y, x_control = load_adult_data(data_size)\n",
    "ut.compute_p_rule(x_control[\"sex\"], y)\n",
    "\n",
    "train_fold_size = 0.7\n",
    "x_train, y_train, x_control_train, x_test, y_test, x_control_test = \\\n",
    "                                ut.split_into_train_test(X, y, x_control, train_fold_size)\n",
    "ut.compute_p_rule(x_control_train[\"sex\"], y_train)\n",
    "svc = SupportVectorMachine()"
   ]
  }
 ],
 "metadata": {
  "kernelspec": {
   "display_name": "Python 3",
   "language": "python",
   "name": "python3"
  },
  "language_info": {
   "codemirror_mode": {
    "name": "ipython",
    "version": 3
   },
   "file_extension": ".py",
   "mimetype": "text/x-python",
   "name": "python",
   "nbconvert_exporter": "python",
   "pygments_lexer": "ipython3",
   "version": "3.9.2"
  }
 },
 "nbformat": 4,
 "nbformat_minor": 5
}
