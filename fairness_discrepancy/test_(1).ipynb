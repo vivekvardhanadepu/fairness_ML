{
 "cells": [
  {
   "cell_type": "code",
   "execution_count": 24,
   "id": "essential-conference",
   "metadata": {
    "colab": {
     "base_uri": "https://localhost:8080/"
    },
    "id": "loCmWutgZI_7",
    "outputId": "ccd55724-f12d-4d9e-f64a-9edd30e9cb49"
   },
   "outputs": [
    {
     "name": "stdout",
     "output_type": "stream",
     "text": [
      "Drive already mounted at /content/drive; to attempt to forcibly remount, call drive.mount(\"/content/drive\", force_remount=True).\n"
     ]
    }
   ],
   "source": [
    "from google.colab import drive\n",
    "drive.mount('/content/drive')"
   ]
  },
  {
   "cell_type": "code",
   "execution_count": 25,
   "id": "constant-nashville",
   "metadata": {
    "id": "AR-LPJtIaX1y"
   },
   "outputs": [],
   "source": [
    "import sys\n",
    "sys.path.append(\"/content/drive/MyDrive/fairness_discrepancy\")"
   ]
  },
  {
   "cell_type": "code",
   "execution_count": 26,
   "id": "wired-brunswick",
   "metadata": {
    "id": "becoming-germany"
   },
   "outputs": [],
   "source": [
    "import utils as ut\n",
    "import loss_funcs as lf\n",
    "import numpy as np\n",
    "from prep_adult_data import *\n",
    "from contextlib import redirect_stdout"
   ]
  },
  {
   "cell_type": "code",
   "execution_count": 27,
   "id": "smaller-absence",
   "metadata": {
    "colab": {
     "base_uri": "https://localhost:8080/"
    },
    "id": "advanced-depression",
    "outputId": "aeb34d23-005a-4b4c-8ed6-332663262398"
   },
   "outputs": [
    {
     "name": "stdout",
     "output_type": "stream",
     "text": [
      "Looking for file 'adult.data' in the current directory...\n",
      "File found in current directory..\n",
      "Looking for file 'adult.test' in the current directory...\n",
      "File found in current directory..\n",
      "Loading only 10000 examples from the data\n",
      "Total data points: 10000\n",
      "# non-protected examples: 6786\n",
      "# protected examples: 3214\n",
      "Non-protected in positive class: 2110 (31%)\n",
      "Protected in positive class: 364 (11%)\n",
      "P-rule is: 36%\n"
     ]
    }
   ],
   "source": [
    "\"\"\" Load the adult data \"\"\"\n",
    "X, y, x_control = load_adult_data(load_data_size=10000) # set the argument to none, or no arguments if you want to test with the whole data -- we are subsampling for performance speedup\n",
    "ut.compute_p_rule(x_control[\"sex\"], y) # compute the p-rule in the original data\n",
    "\n",
    "\n",
    "\n",
    "\"\"\" Split the data into train and test \"\"\"\n",
    "train_fold_size = 0.7\n",
    "x_train, y_train, x_control_train, x_test, y_test, x_control_test = ut.split_into_train_test(X, y, x_control, train_fold_size)\n",
    "\n",
    "loss_function = lf.discrepancy_loss\n",
    "sensitive_attrs = [\"sex\"]"
   ]
  },
  {
   "cell_type": "code",
   "execution_count": 28,
   "id": "instant-quantity",
   "metadata": {
    "id": "adaptive-graph"
   },
   "outputs": [],
   "source": [
    "def train_test_classifier():\n",
    "    \n",
    "#     final_c, Cs, losses = ut.train_model(x_train, y_train, x_control_train, loss_function,sensitive_attrs, max_iter, alpha, l, method, initiator, catol)\n",
    "    final_c, Cs, losses = ut.train_model(x_train, y_train, x_control_train, loss_function, sensitive_attrs, max_iter, \n",
    "                                            alpha, l, method, initiator, catol)\n",
    "    y_train_predicted, y_test_predicted = ut.predict(final_c.x, x_train, y_train, x_test)\n",
    "    train_score, test_score, correct_answers_train, correct_answers_test = \\\n",
    "                                            ut.check_accuracy(None, x_train, y_train, \n",
    "                                                              x_test, y_test, y_train_predicted, y_test_predicted)\n",
    "    print(\"Train data:\")\n",
    "    print(\"------------\")\n",
    "    print(\"Train accuracy : \", train_score)\n",
    "    p_rule_train = ut.compute_p_rule(x_control_train[\"sex\"], y_train_predicted)\n",
    "    print()\n",
    "    print(\"Test data: \")\n",
    "    print(\"------------\")\n",
    "    print(\"Test accuracy : \", test_score)\n",
    "    p_rule_test = ut.compute_p_rule(x_control_test[\"sex\"], y_test_predicted)\n",
    "    print(\"------------------------------------------------------------------------\")\n",
    "    print(\"------------------------------------------------------------------------\")\n",
    "    print\n",
    "    print\n",
    "    return Cs, losses, train_score, test_score, p_rule_train, p_rule_test"
   ]
  },
  {
   "cell_type": "code",
   "execution_count": 29,
   "id": "green-faculty",
   "metadata": {
    "id": "lightweight-bottle"
   },
   "outputs": [],
   "source": [
    "method = 'cobyla'\n",
    "# l_list = np.linspace(start= 0.00000001, stop= 10, num= 5)     # lamda list\n",
    "alpha_list = np.linspace(start=0.0 , stop= 1.0, num= 10)\n",
    "# initiator_list = np.linspace(start= 0, stop= 0.01, num= 10) # for initial values of c\n",
    "max_iter_list = np.linspace(start= 100, stop= 1000, num= 10) # no of iterations\n",
    "# catol_list = np.linspace(start=0, stop= 0.01, num= 5)\n",
    "initiator = 0.001\n",
    "l = 1\n",
    "catol = 0.0001"
   ]
  },
  {
   "cell_type": "code",
   "execution_count": null,
   "id": "plastic-longitude",
   "metadata": {
    "id": "focal-milwaukee"
   },
   "outputs": [],
   "source": [
    "i = 0\n",
    "result = {'l':[], 'alpha':[], 'initiator':[], 'max_iter':[], 'catol':[], 'c':[], 'loss':[],\n",
    "                         'train_accuracy':[], 'test_accuracy':[], 'p_rule_train':[],\n",
    "                             'p_rule_test':[]}"
   ]
  },
  {
   "cell_type": "code",
   "execution_count": null,
   "id": "christian-congress",
   "metadata": {
    "colab": {
     "base_uri": "https://localhost:8080/",
     "height": 452
    },
    "id": "antique-feeding",
    "outputId": "f898e83b-b60a-4e8e-801f-b28d7463c7f7"
   },
   "outputs": [
    {
     "name": "stdout",
     "output_type": "stream",
     "text": [
      "0\n"
     ]
    },
    {
     "ename": "KeyboardInterrupt",
     "evalue": "ignored",
     "output_type": "error",
     "traceback": [
      "\u001b[0;31m---------------------------------------------------------------------------\u001b[0m",
      "\u001b[0;31mKeyboardInterrupt\u001b[0m                         Traceback (most recent call last)",
      "\u001b[0;32m<ipython-input-24-ed83953752d4>\u001b[0m in \u001b[0;36m<module>\u001b[0;34m()\u001b[0m\n\u001b[1;32m      4\u001b[0m         \u001b[0;32mwith\u001b[0m \u001b[0mopen\u001b[0m\u001b[0;34m(\u001b[0m\u001b[0;34m'out_colab'\u001b[0m\u001b[0;34m+\u001b[0m \u001b[0mstr\u001b[0m\u001b[0;34m(\u001b[0m\u001b[0mi\u001b[0m\u001b[0;34m)\u001b[0m \u001b[0;34m+\u001b[0m\u001b[0;34m'.log'\u001b[0m\u001b[0;34m,\u001b[0m \u001b[0;34m'w'\u001b[0m\u001b[0;34m)\u001b[0m \u001b[0;32mas\u001b[0m \u001b[0mf\u001b[0m\u001b[0;34m:\u001b[0m\u001b[0;34m\u001b[0m\u001b[0;34m\u001b[0m\u001b[0m\n\u001b[1;32m      5\u001b[0m             \u001b[0;32mwith\u001b[0m \u001b[0mredirect_stdout\u001b[0m\u001b[0;34m(\u001b[0m\u001b[0mf\u001b[0m\u001b[0;34m)\u001b[0m\u001b[0;34m:\u001b[0m\u001b[0;34m\u001b[0m\u001b[0;34m\u001b[0m\u001b[0m\n\u001b[0;32m----> 6\u001b[0;31m                 \u001b[0mc\u001b[0m\u001b[0;34m,\u001b[0m \u001b[0mloss\u001b[0m\u001b[0;34m,\u001b[0m \u001b[0mtrain_accuracy\u001b[0m\u001b[0;34m,\u001b[0m \u001b[0mtest_accuracy\u001b[0m\u001b[0;34m,\u001b[0m \u001b[0mp_rule_train\u001b[0m\u001b[0;34m,\u001b[0m                                                \u001b[0mp_rule_test\u001b[0m \u001b[0;34m=\u001b[0m \u001b[0mtrain_test_classifier\u001b[0m\u001b[0;34m(\u001b[0m\u001b[0;34m)\u001b[0m\u001b[0;34m\u001b[0m\u001b[0;34m\u001b[0m\u001b[0m\n\u001b[0m\u001b[1;32m      7\u001b[0m                 \u001b[0mresult\u001b[0m\u001b[0;34m[\u001b[0m\u001b[0;34m'l'\u001b[0m\u001b[0;34m]\u001b[0m\u001b[0;34m.\u001b[0m\u001b[0mappend\u001b[0m\u001b[0;34m(\u001b[0m\u001b[0ml\u001b[0m\u001b[0;34m)\u001b[0m\u001b[0;34m\u001b[0m\u001b[0;34m\u001b[0m\u001b[0m\n\u001b[1;32m      8\u001b[0m                 \u001b[0mresult\u001b[0m\u001b[0;34m[\u001b[0m\u001b[0;34m'alpha'\u001b[0m\u001b[0;34m]\u001b[0m\u001b[0;34m.\u001b[0m\u001b[0mappend\u001b[0m\u001b[0;34m(\u001b[0m\u001b[0malpha\u001b[0m\u001b[0;34m)\u001b[0m\u001b[0;34m\u001b[0m\u001b[0;34m\u001b[0m\u001b[0m\n",
      "\u001b[0;32m<ipython-input-21-8fffbb2f42aa>\u001b[0m in \u001b[0;36mtrain_test_classifier\u001b[0;34m()\u001b[0m\n\u001b[1;32m      3\u001b[0m \u001b[0;31m#     final_c, Cs, losses = ut.train_model(x_train, y_train, x_control_train, loss_function,sensitive_attrs, max_iter, alpha, l, method, initiator, catol)\u001b[0m\u001b[0;34m\u001b[0m\u001b[0;34m\u001b[0m\u001b[0;34m\u001b[0m\u001b[0m\n\u001b[1;32m      4\u001b[0m     final_c, Cs, losses = ut.train_model(x_train, y_train, x_control_train, loss_function, sensitive_attrs, max_iter, \n\u001b[0;32m----> 5\u001b[0;31m                                             alpha, l, method, initiator, catol)\n\u001b[0m\u001b[1;32m      6\u001b[0m     \u001b[0my_train_predicted\u001b[0m\u001b[0;34m,\u001b[0m \u001b[0my_test_predicted\u001b[0m \u001b[0;34m=\u001b[0m \u001b[0mut\u001b[0m\u001b[0;34m.\u001b[0m\u001b[0mpredict\u001b[0m\u001b[0;34m(\u001b[0m\u001b[0mfinal_c\u001b[0m\u001b[0;34m.\u001b[0m\u001b[0mx\u001b[0m\u001b[0;34m,\u001b[0m \u001b[0mx_train\u001b[0m\u001b[0;34m,\u001b[0m \u001b[0my_train\u001b[0m\u001b[0;34m,\u001b[0m \u001b[0mx_test\u001b[0m\u001b[0;34m)\u001b[0m\u001b[0;34m\u001b[0m\u001b[0;34m\u001b[0m\u001b[0m\n\u001b[1;32m      7\u001b[0m     train_score, test_score, correct_answers_train, correct_answers_test =                                             ut.check_accuracy(None, x_train, y_train, \n",
      "\u001b[0;32m/content/drive/MyDrive/fairness_discrepancy/utils.py\u001b[0m in \u001b[0;36mtrain_model\u001b[0;34m(x, y, x_control, loss_function, sensitive_attrs, max_iter, alpha, l, method, initiator, catol)\u001b[0m\n\u001b[1;32m     86\u001b[0m         \u001b[0margs\u001b[0m \u001b[0;34m=\u001b[0m \u001b[0mf_args\u001b[0m\u001b[0;34m,\u001b[0m\u001b[0;34m\u001b[0m\u001b[0;34m\u001b[0m\u001b[0m\n\u001b[1;32m     87\u001b[0m         \u001b[0mmethod\u001b[0m \u001b[0;34m=\u001b[0m \u001b[0mmethod\u001b[0m\u001b[0;34m,\u001b[0m\u001b[0;34m\u001b[0m\u001b[0;34m\u001b[0m\u001b[0m\n\u001b[0;32m---> 88\u001b[0;31m         \u001b[0moptions\u001b[0m \u001b[0;34m=\u001b[0m \u001b[0;34m{\u001b[0m\u001b[0;34m\"maxiter\"\u001b[0m\u001b[0;34m:\u001b[0m\u001b[0mmax_iter\u001b[0m\u001b[0;34m}\u001b[0m\u001b[0;34m,\u001b[0m\u001b[0;34m\u001b[0m\u001b[0;34m\u001b[0m\u001b[0m\n\u001b[0m\u001b[1;32m     89\u001b[0m         \u001b[0;31m#bounds = [(0, 1/(2*n*l)) for i in range(n)]\u001b[0m\u001b[0;34m\u001b[0m\u001b[0;34m\u001b[0m\u001b[0;34m\u001b[0m\u001b[0m\n\u001b[1;32m     90\u001b[0m         \u001b[0mconstraints\u001b[0m \u001b[0;34m=\u001b[0m \u001b[0mconstraints\u001b[0m\u001b[0;34m\u001b[0m\u001b[0;34m\u001b[0m\u001b[0m\n",
      "\u001b[0;32m/usr/local/lib/python3.6/dist-packages/scipy/optimize/_minimize.py\u001b[0m in \u001b[0;36mminimize\u001b[0;34m(fun, x0, args, method, jac, hess, hessp, bounds, constraints, tol, callback, options)\u001b[0m\n\u001b[1;32m    613\u001b[0m                              **options)\n\u001b[1;32m    614\u001b[0m     \u001b[0;32melif\u001b[0m \u001b[0mmeth\u001b[0m \u001b[0;34m==\u001b[0m \u001b[0;34m'cobyla'\u001b[0m\u001b[0;34m:\u001b[0m\u001b[0;34m\u001b[0m\u001b[0;34m\u001b[0m\u001b[0m\n\u001b[0;32m--> 615\u001b[0;31m         \u001b[0;32mreturn\u001b[0m \u001b[0m_minimize_cobyla\u001b[0m\u001b[0;34m(\u001b[0m\u001b[0mfun\u001b[0m\u001b[0;34m,\u001b[0m \u001b[0mx0\u001b[0m\u001b[0;34m,\u001b[0m \u001b[0margs\u001b[0m\u001b[0;34m,\u001b[0m \u001b[0mconstraints\u001b[0m\u001b[0;34m,\u001b[0m \u001b[0;34m**\u001b[0m\u001b[0moptions\u001b[0m\u001b[0;34m)\u001b[0m\u001b[0;34m\u001b[0m\u001b[0;34m\u001b[0m\u001b[0m\n\u001b[0m\u001b[1;32m    616\u001b[0m     \u001b[0;32melif\u001b[0m \u001b[0mmeth\u001b[0m \u001b[0;34m==\u001b[0m \u001b[0;34m'slsqp'\u001b[0m\u001b[0;34m:\u001b[0m\u001b[0;34m\u001b[0m\u001b[0;34m\u001b[0m\u001b[0m\n\u001b[1;32m    617\u001b[0m         return _minimize_slsqp(fun, x0, args, jac, bounds,\n",
      "\u001b[0;32m/usr/local/lib/python3.6/dist-packages/scipy/optimize/cobyla.py\u001b[0m in \u001b[0;36m_minimize_cobyla\u001b[0;34m(fun, x0, args, constraints, rhobeg, tol, maxiter, disp, catol, **unknown_options)\u001b[0m\n\u001b[1;32m    250\u001b[0m     xopt, info = _cobyla.minimize(calcfc, m=m, x=np.copy(x0), rhobeg=rhobeg,\n\u001b[1;32m    251\u001b[0m                                   \u001b[0mrhoend\u001b[0m\u001b[0;34m=\u001b[0m\u001b[0mrhoend\u001b[0m\u001b[0;34m,\u001b[0m \u001b[0miprint\u001b[0m\u001b[0;34m=\u001b[0m\u001b[0miprint\u001b[0m\u001b[0;34m,\u001b[0m \u001b[0mmaxfun\u001b[0m\u001b[0;34m=\u001b[0m\u001b[0mmaxfun\u001b[0m\u001b[0;34m,\u001b[0m\u001b[0;34m\u001b[0m\u001b[0;34m\u001b[0m\u001b[0m\n\u001b[0;32m--> 252\u001b[0;31m                                   dinfo=info)\n\u001b[0m\u001b[1;32m    253\u001b[0m \u001b[0;34m\u001b[0m\u001b[0m\n\u001b[1;32m    254\u001b[0m     \u001b[0;32mif\u001b[0m \u001b[0minfo\u001b[0m\u001b[0;34m[\u001b[0m\u001b[0;36m3\u001b[0m\u001b[0;34m]\u001b[0m \u001b[0;34m>\u001b[0m \u001b[0mcatol\u001b[0m\u001b[0;34m:\u001b[0m\u001b[0;34m\u001b[0m\u001b[0;34m\u001b[0m\u001b[0m\n",
      "\u001b[0;32m/usr/local/lib/python3.6/dist-packages/scipy/optimize/cobyla.py\u001b[0m in \u001b[0;36mcalcfc\u001b[0;34m(x, con)\u001b[0m\n\u001b[1;32m    240\u001b[0m \u001b[0;34m\u001b[0m\u001b[0m\n\u001b[1;32m    241\u001b[0m     \u001b[0;32mdef\u001b[0m \u001b[0mcalcfc\u001b[0m\u001b[0;34m(\u001b[0m\u001b[0mx\u001b[0m\u001b[0;34m,\u001b[0m \u001b[0mcon\u001b[0m\u001b[0;34m)\u001b[0m\u001b[0;34m:\u001b[0m\u001b[0;34m\u001b[0m\u001b[0;34m\u001b[0m\u001b[0m\n\u001b[0;32m--> 242\u001b[0;31m         \u001b[0mf\u001b[0m \u001b[0;34m=\u001b[0m \u001b[0mfun\u001b[0m\u001b[0;34m(\u001b[0m\u001b[0mx\u001b[0m\u001b[0;34m,\u001b[0m \u001b[0;34m*\u001b[0m\u001b[0margs\u001b[0m\u001b[0;34m)\u001b[0m\u001b[0;34m\u001b[0m\u001b[0;34m\u001b[0m\u001b[0m\n\u001b[0m\u001b[1;32m    243\u001b[0m         \u001b[0mi\u001b[0m \u001b[0;34m=\u001b[0m \u001b[0;36m0\u001b[0m\u001b[0;34m\u001b[0m\u001b[0;34m\u001b[0m\u001b[0m\n\u001b[1;32m    244\u001b[0m         \u001b[0;32mfor\u001b[0m \u001b[0msize\u001b[0m\u001b[0;34m,\u001b[0m \u001b[0mc\u001b[0m \u001b[0;32min\u001b[0m \u001b[0mizip\u001b[0m\u001b[0;34m(\u001b[0m\u001b[0mcons_lengths\u001b[0m\u001b[0;34m,\u001b[0m \u001b[0mconstraints\u001b[0m\u001b[0;34m)\u001b[0m\u001b[0;34m:\u001b[0m\u001b[0;34m\u001b[0m\u001b[0;34m\u001b[0m\u001b[0m\n",
      "\u001b[0;32m/content/drive/MyDrive/fairness_discrepancy/loss_wrapper.py\u001b[0m in \u001b[0;36msimulate\u001b[0;34m(self, x, *args)\u001b[0m\n\u001b[1;32m      6\u001b[0m \u001b[0;34m\u001b[0m\u001b[0m\n\u001b[1;32m      7\u001b[0m     \u001b[0;32mdef\u001b[0m \u001b[0msimulate\u001b[0m\u001b[0;34m(\u001b[0m\u001b[0mself\u001b[0m\u001b[0;34m,\u001b[0m \u001b[0mx\u001b[0m\u001b[0;34m,\u001b[0m \u001b[0;34m*\u001b[0m\u001b[0margs\u001b[0m\u001b[0;34m)\u001b[0m\u001b[0;34m:\u001b[0m\u001b[0;34m\u001b[0m\u001b[0;34m\u001b[0m\u001b[0m\n\u001b[0;32m----> 8\u001b[0;31m         \u001b[0mloss\u001b[0m \u001b[0;34m=\u001b[0m \u001b[0mself\u001b[0m\u001b[0;34m.\u001b[0m\u001b[0mf\u001b[0m\u001b[0;34m(\u001b[0m\u001b[0mx\u001b[0m\u001b[0;34m,\u001b[0m \u001b[0;34m*\u001b[0m\u001b[0margs\u001b[0m\u001b[0;34m)\u001b[0m\u001b[0;34m\u001b[0m\u001b[0;34m\u001b[0m\u001b[0m\n\u001b[0m\u001b[1;32m      9\u001b[0m         \u001b[0mself\u001b[0m\u001b[0;34m.\u001b[0m\u001b[0mvalues\u001b[0m\u001b[0;34m[\u001b[0m\u001b[0;34m'c'\u001b[0m\u001b[0;34m]\u001b[0m\u001b[0;34m.\u001b[0m\u001b[0mappend\u001b[0m\u001b[0;34m(\u001b[0m\u001b[0mx\u001b[0m\u001b[0;34m)\u001b[0m\u001b[0;34m\u001b[0m\u001b[0;34m\u001b[0m\u001b[0m\n\u001b[1;32m     10\u001b[0m         \u001b[0mself\u001b[0m\u001b[0;34m.\u001b[0m\u001b[0mvalues\u001b[0m\u001b[0;34m[\u001b[0m\u001b[0;34m'losses'\u001b[0m\u001b[0;34m]\u001b[0m\u001b[0;34m.\u001b[0m\u001b[0mappend\u001b[0m\u001b[0;34m(\u001b[0m\u001b[0mloss\u001b[0m\u001b[0;34m)\u001b[0m\u001b[0;34m\u001b[0m\u001b[0;34m\u001b[0m\u001b[0m\n",
      "\u001b[0;32m/content/drive/MyDrive/fairness_discrepancy/loss_funcs.py\u001b[0m in \u001b[0;36mdiscrepancy_loss\u001b[0;34m(c, x, y, x_control, alpha, K, sensitive_attrs)\u001b[0m\n\u001b[1;32m     11\u001b[0m         \u001b[0;31m#               svm_loss += 0.5*y[i]*y[j]*c[i]*c[j]*K(x[i],x[j])\u001b[0m\u001b[0;34m\u001b[0m\u001b[0;34m\u001b[0m\u001b[0;34m\u001b[0m\u001b[0m\n\u001b[1;32m     12\u001b[0m         \u001b[0mkernel_values\u001b[0m \u001b[0;34m=\u001b[0m \u001b[0;34m[\u001b[0m\u001b[0;34m]\u001b[0m\u001b[0;34m\u001b[0m\u001b[0;34m\u001b[0m\u001b[0m\n\u001b[0;32m---> 13\u001b[0;31m \u001b[0;34m\u001b[0m\u001b[0m\n\u001b[0m\u001b[1;32m     14\u001b[0m         \u001b[0;32mfor\u001b[0m \u001b[0mi\u001b[0m \u001b[0;32min\u001b[0m \u001b[0mrange\u001b[0m\u001b[0;34m(\u001b[0m\u001b[0mx\u001b[0m\u001b[0;34m.\u001b[0m\u001b[0mshape\u001b[0m\u001b[0;34m[\u001b[0m\u001b[0;36m0\u001b[0m\u001b[0;34m]\u001b[0m\u001b[0;34m)\u001b[0m\u001b[0;34m:\u001b[0m\u001b[0;34m\u001b[0m\u001b[0;34m\u001b[0m\u001b[0m\n\u001b[1;32m     15\u001b[0m                 \u001b[0mkernel_values\u001b[0m\u001b[0;34m.\u001b[0m\u001b[0mappend\u001b[0m\u001b[0;34m(\u001b[0m\u001b[0mnp\u001b[0m\u001b[0;34m.\u001b[0m\u001b[0msqueeze\u001b[0m\u001b[0;34m(\u001b[0m\u001b[0mK\u001b[0m\u001b[0;34m(\u001b[0m\u001b[0mx\u001b[0m\u001b[0;34m[\u001b[0m\u001b[0mi\u001b[0m\u001b[0;34m]\u001b[0m\u001b[0;34m,\u001b[0m \u001b[0mx\u001b[0m\u001b[0;34m)\u001b[0m\u001b[0;34m)\u001b[0m\u001b[0;34m)\u001b[0m\u001b[0;34m\u001b[0m\u001b[0;34m\u001b[0m\u001b[0m\n",
      "\u001b[0;32m/content/drive/MyDrive/fairness_discrepancy/utils.py\u001b[0m in \u001b[0;36mrbf_kernel\u001b[0;34m(x1, x2)\u001b[0m\n\u001b[1;32m     10\u001b[0m \u001b[0;34m\u001b[0m\u001b[0m\n\u001b[1;32m     11\u001b[0m \u001b[0;34m@\u001b[0m\u001b[0mjit\u001b[0m\u001b[0;34m(\u001b[0m\u001b[0mtarget\u001b[0m\u001b[0;34m=\u001b[0m\u001b[0;34m'cuda'\u001b[0m\u001b[0;34m,\u001b[0m \u001b[0mnopython\u001b[0m\u001b[0;34m=\u001b[0m\u001b[0;32mTrue\u001b[0m\u001b[0;34m,\u001b[0m \u001b[0mparallel\u001b[0m\u001b[0;34m=\u001b[0m\u001b[0;32mTrue\u001b[0m\u001b[0;34m)\u001b[0m\u001b[0;34m\u001b[0m\u001b[0;34m\u001b[0m\u001b[0m\n\u001b[0;32m---> 12\u001b[0;31m \u001b[0;32mdef\u001b[0m \u001b[0mrbf_kernel\u001b[0m\u001b[0;34m(\u001b[0m\u001b[0mx1\u001b[0m\u001b[0;34m,\u001b[0m \u001b[0mx2\u001b[0m\u001b[0;34m)\u001b[0m\u001b[0;34m:\u001b[0m\u001b[0;34m\u001b[0m\u001b[0;34m\u001b[0m\u001b[0m\n\u001b[0m\u001b[1;32m     13\u001b[0m     \u001b[0mgamma\u001b[0m \u001b[0;34m=\u001b[0m \u001b[0;36m0.5\u001b[0m\u001b[0;34m\u001b[0m\u001b[0;34m\u001b[0m\u001b[0m\n\u001b[1;32m     14\u001b[0m     \u001b[0;32mreturn\u001b[0m \u001b[0mnp\u001b[0m\u001b[0;34m.\u001b[0m\u001b[0mexp\u001b[0m\u001b[0;34m(\u001b[0m\u001b[0;34m-\u001b[0m\u001b[0;36m1\u001b[0m\u001b[0;34m*\u001b[0m\u001b[0mgamma\u001b[0m\u001b[0;34m*\u001b[0m\u001b[0mnp\u001b[0m\u001b[0;34m.\u001b[0m\u001b[0mlinalg\u001b[0m\u001b[0;34m.\u001b[0m\u001b[0mnorm\u001b[0m\u001b[0;34m(\u001b[0m\u001b[0mx1\u001b[0m\u001b[0;34m-\u001b[0m\u001b[0mx2\u001b[0m\u001b[0;34m,\u001b[0m \u001b[0maxis\u001b[0m\u001b[0;34m=\u001b[0m\u001b[0;36m1\u001b[0m\u001b[0;34m)\u001b[0m\u001b[0;34m**\u001b[0m\u001b[0;36m2\u001b[0m\u001b[0;34m)\u001b[0m\u001b[0;34m\u001b[0m\u001b[0;34m\u001b[0m\u001b[0m\n",
      "\u001b[0;32m<__array_function__ internals>\u001b[0m in \u001b[0;36mnorm\u001b[0;34m(*args, **kwargs)\u001b[0m\n",
      "\u001b[0;32m/usr/local/lib/python3.6/dist-packages/numpy/linalg/linalg.py\u001b[0m in \u001b[0;36mnorm\u001b[0;34m(x, ord, axis, keepdims)\u001b[0m\n\u001b[1;32m   2558\u001b[0m         \u001b[0;32melif\u001b[0m \u001b[0mord\u001b[0m \u001b[0;32mis\u001b[0m \u001b[0;32mNone\u001b[0m \u001b[0;32mor\u001b[0m \u001b[0mord\u001b[0m \u001b[0;34m==\u001b[0m \u001b[0;36m2\u001b[0m\u001b[0;34m:\u001b[0m\u001b[0;34m\u001b[0m\u001b[0;34m\u001b[0m\u001b[0m\n\u001b[1;32m   2559\u001b[0m             \u001b[0;31m# special case for speedup\u001b[0m\u001b[0;34m\u001b[0m\u001b[0;34m\u001b[0m\u001b[0;34m\u001b[0m\u001b[0m\n\u001b[0;32m-> 2560\u001b[0;31m             \u001b[0ms\u001b[0m \u001b[0;34m=\u001b[0m \u001b[0;34m(\u001b[0m\u001b[0mx\u001b[0m\u001b[0;34m.\u001b[0m\u001b[0mconj\u001b[0m\u001b[0;34m(\u001b[0m\u001b[0;34m)\u001b[0m \u001b[0;34m*\u001b[0m \u001b[0mx\u001b[0m\u001b[0;34m)\u001b[0m\u001b[0;34m.\u001b[0m\u001b[0mreal\u001b[0m\u001b[0;34m\u001b[0m\u001b[0;34m\u001b[0m\u001b[0m\n\u001b[0m\u001b[1;32m   2561\u001b[0m             \u001b[0;32mreturn\u001b[0m \u001b[0msqrt\u001b[0m\u001b[0;34m(\u001b[0m\u001b[0madd\u001b[0m\u001b[0;34m.\u001b[0m\u001b[0mreduce\u001b[0m\u001b[0;34m(\u001b[0m\u001b[0ms\u001b[0m\u001b[0;34m,\u001b[0m \u001b[0maxis\u001b[0m\u001b[0;34m=\u001b[0m\u001b[0maxis\u001b[0m\u001b[0;34m,\u001b[0m \u001b[0mkeepdims\u001b[0m\u001b[0;34m=\u001b[0m\u001b[0mkeepdims\u001b[0m\u001b[0;34m)\u001b[0m\u001b[0;34m)\u001b[0m\u001b[0;34m\u001b[0m\u001b[0;34m\u001b[0m\u001b[0m\n\u001b[1;32m   2562\u001b[0m         \u001b[0;31m# None of the str-type keywords for ord ('fro', 'nuc')\u001b[0m\u001b[0;34m\u001b[0m\u001b[0;34m\u001b[0m\u001b[0;34m\u001b[0m\u001b[0m\n",
      "\u001b[0;31mKeyboardInterrupt\u001b[0m: "
     ]
    }
   ],
   "source": [
    "for alpha in alpha_list:\n",
    "    for max_iter in max_iter_list:\n",
    "        print(i)\n",
    "        with open('out_colab'+ str(i) +'.log', 'w') as f:\n",
    "            with redirect_stdout(f):\n",
    "                c, loss, train_accuracy, test_accuracy, p_rule_train,\\\n",
    "                                                p_rule_test = train_test_classifier()\n",
    "                result['l'].append(l)\n",
    "                result['alpha'].append(alpha)\n",
    "                result['max_iter'].append(max_iter)\n",
    "                result['initiator'].append(initiator)\n",
    "                result['catol'].append(catol)\n",
    "                result['c'].append(c)\n",
    "                result['loss'].append(loss)\n",
    "                result['train_accuracy'].append(train_accuracy)\n",
    "                result['test_accuracy'].append(test_accuracy)\n",
    "                result['p_rule_train'].append(p_rule_train)\n",
    "                result['p_rule_test'].append(p_rule_test)\n",
    "        i = i+1"
   ]
  },
  {
   "cell_type": "code",
   "execution_count": 6,
   "id": "heard-hopkins",
   "metadata": {
    "colab": {
     "base_uri": "https://localhost:8080/",
     "height": 782
    },
    "id": "presidential-macintosh",
    "outputId": "55915840-1a21-4ff8-9087-0dae13643113"
   },
   "outputs": [
    {
     "name": "stdout",
     "output_type": "stream",
     "text": [
      "The autoreload extension is already loaded. To reload it, use:\n",
      "  %reload_ext autoreload\n",
      "iter:  10   lambda:  1   alpha:  0.5   kernel: rbf, method:  cobyla\n",
      "x_init:  [4.61210947e-05 1.54633456e-04 2.19932822e-04 ... 5.61520195e-05\n",
      " 7.17752571e-04 3.05347832e-04]\n",
      "loss:  910.7612513365544\n",
      "loss:  910.5146603156919\n",
      "loss:  910.264981719186\n",
      "loss:  910.0191902559765\n",
      "loss:  909.7697142952132\n",
      "loss:  909.5204259625265\n",
      "loss:  909.2711384222831\n",
      "loss:  909.0212401444286\n",
      "loss:  908.7707912656919\n",
      "loss:  908.521165183762\n",
      "weights:  [1.00004612e+00 1.00015463e+00 1.00021993e+00 ... 5.61520195e-05\n",
      " 7.17752571e-04 3.05347832e-04]\n",
      "Optimization problem did not converge.. Check the solution returned by the optimizer.\n",
      "Returned solution is:\n",
      "     fun: 908.521165183762\n",
      "   maxcv: 6.805539396043335\n",
      " message: 'Did not converge to a solution satisfying the constraints. See `maxcv` for magnitude of violation.'\n",
      "    nfev: 10\n",
      "  status: 4\n",
      " success: False\n",
      "       x: array([1.00004612e+00, 1.00015463e+00, 1.00021993e+00, ...,\n",
      "       5.61520195e-05, 7.17752571e-04, 3.05347832e-04])\n",
      "Train data:\n",
      "------------\n",
      "Train accuracy :  0.3444285714285714\n",
      "Total data points: 7000\n",
      "# non-protected examples: 4699\n",
      "# protected examples: 2301\n",
      "Non-protected in positive class: 4182 (89%)\n",
      "Protected in positive class: 2042 (89%)\n",
      "P-rule is: 100%\n",
      "\n",
      "Test data: \n",
      "------------\n",
      "Test accuracy :  0.342\n",
      "Total data points: 3000\n",
      "# non-protected examples: 2055\n",
      "# protected examples: 945\n",
      "Non-protected in positive class: 1854 (90%)\n",
      "Protected in positive class: 837 (89%)\n",
      "P-rule is: 98%\n",
      "------------------------------------------------------------------------\n",
      "------------------------------------------------------------------------\n",
      "CPU times: user 3min 40s, sys: 6.42 s, total: 3min 47s\n",
      "Wall time: 3min 59s\n"
     ]
    },
    {
     "data": {
      "text/plain": [
       "([array([6.95212107e-310, 6.95212107e-310, 1.56324030e-316, ...,\n",
       "         5.61520195e-005, 7.17752571e-004, 3.05347832e-004]),\n",
       "  array([6.95212107e-310, 6.95212107e-310, 1.56324030e-316, ...,\n",
       "         5.61520195e-005, 7.17752571e-004, 3.05347832e-004]),\n",
       "  array([6.95212107e-310, 6.95212107e-310, 1.56324030e-316, ...,\n",
       "         5.61520195e-005, 7.17752571e-004, 3.05347832e-004]),\n",
       "  array([6.95212107e-310, 6.95212107e-310, 1.56324030e-316, ...,\n",
       "         5.61520195e-005, 7.17752571e-004, 3.05347832e-004]),\n",
       "  array([6.95212107e-310, 6.95212107e-310, 1.56324030e-316, ...,\n",
       "         5.61520195e-005, 7.17752571e-004, 3.05347832e-004]),\n",
       "  array([6.95212107e-310, 6.95212107e-310, 1.56324030e-316, ...,\n",
       "         5.61520195e-005, 7.17752571e-004, 3.05347832e-004]),\n",
       "  array([6.95212107e-310, 6.95212107e-310, 1.56324030e-316, ...,\n",
       "         5.61520195e-005, 7.17752571e-004, 3.05347832e-004]),\n",
       "  array([6.95212107e-310, 6.95212107e-310, 1.56324030e-316, ...,\n",
       "         5.61520195e-005, 7.17752571e-004, 3.05347832e-004]),\n",
       "  array([6.95212107e-310, 6.95212107e-310, 1.56324030e-316, ...,\n",
       "         5.61520195e-005, 7.17752571e-004, 3.05347832e-004]),\n",
       "  array([6.95212107e-310, 6.95212107e-310, 1.56324030e-316, ...,\n",
       "         5.61520195e-005, 7.17752571e-004, 3.05347832e-004])],\n",
       " [910.7612513365544,\n",
       "  910.5146603156919,\n",
       "  910.264981719186,\n",
       "  910.0191902559765,\n",
       "  909.7697142952132,\n",
       "  909.5204259625265,\n",
       "  909.2711384222831,\n",
       "  909.0212401444286,\n",
       "  908.7707912656919,\n",
       "  908.521165183762],\n",
       " 0.3444285714285714,\n",
       " 0.342,\n",
       " 99.71500965105517,\n",
       " 98.17383263985205)"
      ]
     },
     "execution_count": 6,
     "metadata": {},
     "output_type": "execute_result"
    }
   ],
   "source": [
    "%load_ext autoreload\n",
    "%autoreload 2\n",
    "alpha = .5\n",
    "max_iter = 10\n",
    "# initiator=10\n",
    "%time train_test_classifier()"
   ]
  },
  {
   "cell_type": "code",
   "execution_count": null,
   "id": "chubby-short",
   "metadata": {
    "id": "hN65k-ZsfrFx"
   },
   "outputs": [],
   "source": []
  }
 ],
 "metadata": {
  "colab": {
   "collapsed_sections": [],
   "name": "test (1).ipynb",
   "provenance": []
  },
  "kernelspec": {
   "display_name": "Python 3",
   "language": "python",
   "name": "python3"
  },
  "language_info": {
   "codemirror_mode": {
    "name": "ipython",
    "version": 3
   },
   "file_extension": ".py",
   "mimetype": "text/x-python",
   "name": "python",
   "nbconvert_exporter": "python",
   "pygments_lexer": "ipython3",
   "version": "3.9.1+"
  }
 },
 "nbformat": 4,
 "nbformat_minor": 5
}
