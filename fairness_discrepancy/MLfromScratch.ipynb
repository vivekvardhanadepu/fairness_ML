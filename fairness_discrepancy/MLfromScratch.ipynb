{
 "cells": [
  {
   "cell_type": "code",
   "execution_count": 1,
   "id": "civilian-continent",
   "metadata": {},
   "outputs": [],
   "source": [
    "from SVMFromScratch import *\n",
    "import utils as ut\n",
    "from prep_adult_data import *"
   ]
  },
  {
   "cell_type": "code",
   "execution_count": 2,
   "id": "european-current",
   "metadata": {},
   "outputs": [
    {
     "name": "stdout",
     "output_type": "stream",
     "text": [
      "Looking for file 'adult.data' in the current directory...\n",
      "File found in current directory..\n",
      "Looking for file 'adult.test' in the current directory...\n",
      "File found in current directory..\n",
      "Loading only 10000 examples from the data\n",
      "Total data points: 10000\n",
      "# non-protected examples: 6754\n",
      "# protected examples: 3246\n",
      "Non-protected in positive class: 2080 (31%)\n",
      "Protected in positive class: 372 (11%)\n",
      "P-rule is: 37%\n",
      "Total data points: 7000\n",
      "# non-protected examples: 4699\n",
      "# protected examples: 2301\n",
      "Non-protected in positive class: 1437 (31%)\n",
      "Protected in positive class: 264 (11%)\n",
      "P-rule is: 38%\n"
     ]
    }
   ],
   "source": [
    "X, y, x_control = load_adult_data(10000)\n",
    "ut.compute_p_rule(x_control[\"sex\"], y)\n",
    "\n",
    "train_fold_size = 0.7\n",
    "x_train, y_train, x_control_train, x_test, y_test, x_control_test = \\\n",
    "                                ut.split_into_train_test(X, y, x_control, train_fold_size)\n",
    "ut.compute_p_rule(x_control_train[\"sex\"], y_train)\n",
    "svc = SupportVectorMachine()\n",
    "svc.fit(x_train, y_train)"
   ]
  },
  {
   "cell_type": "code",
   "execution_count": null,
   "id": "banner-diameter",
   "metadata": {},
   "outputs": [],
   "source": []
  }
 ],
 "metadata": {
  "kernelspec": {
   "display_name": "Python 3",
   "language": "python",
   "name": "python3"
  },
  "language_info": {
   "codemirror_mode": {
    "name": "ipython",
    "version": 3
   },
   "file_extension": ".py",
   "mimetype": "text/x-python",
   "name": "python",
   "nbconvert_exporter": "python",
   "pygments_lexer": "ipython3",
   "version": "3.9.2"
  }
 },
 "nbformat": 4,
 "nbformat_minor": 5
}
